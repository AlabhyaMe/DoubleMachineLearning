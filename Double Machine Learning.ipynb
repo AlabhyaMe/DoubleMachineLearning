{
 "cells": [
  {
   "cell_type": "markdown",
   "id": "09a75d4b",
   "metadata": {},
   "source": [
    "# Extending A/B test with Double Machine Learning"
   ]
  },
  {
   "cell_type": "markdown",
   "id": "6975fda2",
   "metadata": {},
   "source": [
    "This post will explore the strengths of A/B testing and introduce Double Machine Learning (DoubleML) as a powerful technique for addressing confounding variables. I will demonstrate how DoubleML can provide a more robust estimate of the treatment effect by effectively controlling for confounders. The key takeaway is to show how DoubleML can help ensure your results are more accurate and reliable.\n",
    "\n",
    "This is a case study of a bank trying to increase their Certificate of Deposit (CD). A bank, concerned about its low rate of CD subscriptions, initiated a randomized marketing study. Historically, its overall customer CD uptake was 13%. From its customer base, 25,000 individuals were selected using stratified sampling to ensure a representative group.\n",
    "\n",
    "Approximately 40% of this sample was randomly assigned to a treatment group. This group received a targeted campaign: a push notification or text message offering a CD with a higher-than-usual return rate. The bank's management hypothesized that this promotion would significantly increase CD uptake. If the results were positive, the plan was to roll the program out to all existing and potential customers."
   ]
  },
  {
   "cell_type": "markdown",
   "id": "a35f2e10",
   "metadata": {},
   "source": [
    "Import libraries and file"
   ]
  },
  {
   "cell_type": "code",
   "execution_count": 28,
   "id": "b4668110",
   "metadata": {},
   "outputs": [
    {
     "name": "stdout",
     "output_type": "stream",
     "text": [
      "\u001b[1mRows: \u001b[22m\u001b[34m25000\u001b[39m \u001b[1mColumns: \u001b[22m\u001b[34m7\u001b[39m\n",
      "\u001b[36m──\u001b[39m \u001b[1mColumn specification\u001b[22m \u001b[36m───────────────────────────────────────────────────────────────────────────────────────────────────────────────────────────────────────────────\u001b[39m\n",
      "\u001b[1mDelimiter:\u001b[22m \",\"\n",
      "\u001b[31mchr\u001b[39m (1): treated\n",
      "\u001b[32mdbl\u001b[39m (6): mobile_bank, income, saving_account, mobile_bank_new, CD_existing, CD_new\n",
      "\n",
      "\u001b[36mℹ\u001b[39m Use `spec()` to retrieve the full column specification for this data.\n",
      "\u001b[36mℹ\u001b[39m Specify the column types or set `show_col_types = FALSE` to quiet this message.\n"
     ]
    }
   ],
   "source": [
    "library(readr)\n",
    "library(tidyverse)\n",
    "cust_data <- read_csv(\"cust_data.csv\")"
   ]
  },
  {
   "cell_type": "markdown",
   "id": "5c6b760a",
   "metadata": {},
   "source": [
    "The dataset has 9 columns. The column of interest is the CD_new. The treated column shows those who got the offer or not. "
   ]
  },
  {
   "cell_type": "code",
   "execution_count": 29,
   "id": "56e2a855",
   "metadata": {},
   "outputs": [
    {
     "data": {
      "text/plain": [
       "\u001b[38;5;246m# A tibble: 6 × 7\u001b[39m\n",
       "  mobile_bank income saving_account treated  mobile_bank_new CD_existing CD_new\n",
       "        \u001b[3m\u001b[38;5;246m<dbl>\u001b[39m\u001b[23m  \u001b[3m\u001b[38;5;246m<dbl>\u001b[39m\u001b[23m          \u001b[3m\u001b[38;5;246m<dbl>\u001b[39m\u001b[23m \u001b[3m\u001b[38;5;246m<chr>\u001b[39m\u001b[23m              \u001b[3m\u001b[38;5;246m<dbl>\u001b[39m\u001b[23m       \u001b[3m\u001b[38;5;246m<dbl>\u001b[39m\u001b[23m  \u001b[3m\u001b[38;5;246m<dbl>\u001b[39m\u001b[23m\n",
       "\u001b[38;5;250m1\u001b[39m           1 \u001b[4m1\u001b[24m\u001b[4m3\u001b[24m\u001b[4m3\u001b[24m856         \u001b[4m6\u001b[24m\u001b[4m0\u001b[24m250. Offer                  1           1      1\n",
       "\u001b[38;5;250m2\u001b[39m           1 \u001b[4m2\u001b[24m\u001b[4m5\u001b[24m\u001b[4m3\u001b[24m744        \u001b[4m1\u001b[24m\u001b[4m2\u001b[24m\u001b[4m1\u001b[24m303. No Offer               1           1      1\n",
       "\u001b[38;5;250m3\u001b[39m           1 \u001b[4m1\u001b[24m\u001b[4m2\u001b[24m\u001b[4m1\u001b[24m063         \u001b[4m5\u001b[24m\u001b[4m4\u001b[24m653. No Offer               1           1      1\n",
       "\u001b[38;5;250m4\u001b[39m           1      0          \u001b[4m3\u001b[24m049. Offer                  1           0      0\n",
       "\u001b[38;5;250m5\u001b[39m           1      0          \u001b[4m2\u001b[24m542. Offer                  1           0      0\n",
       "\u001b[38;5;250m6\u001b[39m           1  \u001b[4m5\u001b[24m\u001b[4m4\u001b[24m809          \u001b[4m3\u001b[24m297. No Offer               1           0      0"
      ]
     },
     "execution_count": null,
     "metadata": {},
     "output_type": "execute_result"
    }
   ],
   "source": [
    "head(cust_data)"
   ]
  },
  {
   "cell_type": "code",
   "execution_count": 30,
   "id": "3f94b736",
   "metadata": {},
   "outputs": [
    {
     "name": "stdout",
     "output_type": "stream",
     "text": [
      "spc_tbl_ [25,000 × 7] (S3: spec_tbl_df/tbl_df/tbl/data.frame)\n",
      " $ mobile_bank    : num [1:25000] 1 1 1 1 1 1 0 0 1 1 ...\n",
      " $ income         : num [1:25000] 133856 253744 121063 0 0 ...\n",
      " $ saving_account : num [1:25000] 60250 121303 54653 3049 2542 ...\n",
      " $ treated        : chr [1:25000] \"Offer\" \"No Offer\" \"No Offer\" \"Offer\" ...\n",
      " $ mobile_bank_new: num [1:25000] 1 1 1 1 1 1 0 1 1 1 ...\n",
      " $ CD_existing    : num [1:25000] 1 1 1 0 0 0 0 1 0 1 ...\n",
      " $ CD_new         : num [1:25000] 1 1 1 0 0 0 1 0 0 1 ...\n",
      " - attr(*, \"spec\")=\n",
      "  .. cols(\n",
      "  ..   mobile_bank = \u001b[32mcol_double()\u001b[39m,\n",
      "  ..   income = \u001b[32mcol_double()\u001b[39m,\n",
      "  ..   saving_account = \u001b[32mcol_double()\u001b[39m,\n",
      "  ..   treated = \u001b[31mcol_character()\u001b[39m,\n",
      "  ..   mobile_bank_new = \u001b[32mcol_double()\u001b[39m,\n",
      "  ..   CD_existing = \u001b[32mcol_double()\u001b[39m,\n",
      "  ..   CD_new = \u001b[32mcol_double()\u001b[39m\n",
      "  .. )\n",
      " - attr(*, \"problems\")=<externalptr> \n"
     ]
    }
   ],
   "source": [
    "str(cust_data)"
   ]
  },
  {
   "cell_type": "code",
   "execution_count": 31,
   "id": "30fbb68e",
   "metadata": {},
   "outputs": [
    {
     "data": {
      "text/plain": [
       "  mobile_bank         income       saving_account       treated          mobile_bank_new  CD_existing         CD_new      \n",
       " Min.   :0.0000   Min.   :     0   Min.   :  -303.8   Length:25000       Min.   :0.00    Min.   :0.0000   Min.   :0.0000  \n",
       " 1st Qu.:1.0000   1st Qu.:106219   1st Qu.:  3312.3   Class :character   1st Qu.:1.00    1st Qu.:0.0000   1st Qu.:0.0000  \n",
       " Median :1.0000   Median :143361   Median : 48382.2   Mode  :character   Median :1.00    Median :0.0000   Median :0.0000  \n",
       " Mean   :0.8007   Mean   :125462   Mean   : 43065.9                      Mean   :0.83    Mean   :0.3092   Mean   :0.3231  \n",
       " 3rd Qu.:1.0000   3rd Qu.:169963   3rd Qu.: 68936.1                      3rd Qu.:1.00    3rd Qu.:1.0000   3rd Qu.:1.0000  \n",
       " Max.   :1.0000   Max.   :312983   Max.   :182080.2                      Max.   :1.00    Max.   :1.0000   Max.   :1.0000  "
      ]
     },
     "execution_count": null,
     "metadata": {},
     "output_type": "execute_result"
    }
   ],
   "source": [
    "summary(cust_data)"
   ]
  },
  {
   "cell_type": "markdown",
   "id": "4041d013",
   "metadata": {},
   "source": [
    "Let us see how the exisitng CD before the A/B test and CD after the test compares."
   ]
  },
  {
   "cell_type": "code",
   "execution_count": 32,
   "id": "999e95cd",
   "metadata": {},
   "outputs": [
    {
     "name": "stdout",
     "output_type": "stream",
     "text": [
      "Mean of CD_existing: 30.924 \n",
      "Mean of CD_new: 32.312 \n"
     ]
    }
   ],
   "source": [
    "cat(\"Mean of CD_existing:\", mean(cust_data$CD_existing)*100, \n",
    "    \"\\nMean of CD_new:\", mean(cust_data$CD_new)*100, \"\\n\")\n"
   ]
  },
  {
   "cell_type": "markdown",
   "id": "8411e147",
   "metadata": {},
   "source": [
    "There is a 5 percent point improvement in the CD after the intervention. However, we are not sure if it's the causal effect of the offer, hence we can run an A/B test. "
   ]
  },
  {
   "cell_type": "code",
   "execution_count": 33,
   "id": "d6a1d70f",
   "metadata": {},
   "outputs": [
    {
     "data": {
      "text/plain": [
       "\n",
       "\tWelch Two Sample t-test\n",
       "\n",
       "data:  CD_new by treated_encoded_t\n",
       "t = 7.3557, df = 21009, p-value = 9.845e-14\n",
       "alternative hypothesis: true difference in means between group 1 and group 0 is greater than 0\n",
       "95 percent confidence interval:\n",
       " 0.03465899        Inf\n",
       "sample estimates:\n",
       "mean in group 1 mean in group 0 \n",
       "      0.3498356       0.3051935 \n"
      ]
     },
     "execution_count": null,
     "metadata": {},
     "output_type": "execute_result"
    }
   ],
   "source": [
    "cust_data$treated_encoded <- ifelse(cust_data$treated==\"Offer\",1,0)\n",
    "cust_data$treated_encoded_t <- factor(cust_data$treated_encoded, levels = c(1, 0))\n",
    "#A/B test result\n",
    "\n",
    "t.test(CD_new ~ treated_encoded_t, data = cust_data, alternative = \"greater\")"
   ]
  },
  {
   "cell_type": "markdown",
   "id": "47467e36",
   "metadata": {},
   "source": [
    "The initial analysis of the A/B test showed promising results. We can establish a causal estimate by comparing the average outcomes between the treatment and control groups, as the random assignment helps to neutralize the effects of other variables.\n",
    "A t-test was performed to determine if the difference between the groups was statistically significant. The results were as follows:\n",
    "Treatment Group: Had a CD subscription rate of 24%.\n",
    "Control Group: Had a CD subscription rate of 5.6%.\n",
    "\n",
    "The very low p-value and the confidence interval for the difference between the groups both indicate that the marketing program was highly effective."
   ]
  },
  {
   "cell_type": "markdown",
   "id": "169dac9f",
   "metadata": {},
   "source": [
    "### Some potential underlying problems"
   ]
  },
  {
   "cell_type": "markdown",
   "id": "776b2124",
   "metadata": {},
   "source": [
    "About 80% have mobile banking and past records suggest having mobile banking has correlation with also having a CD account."
   ]
  },
  {
   "cell_type": "code",
   "execution_count": 41,
   "id": "44898b14",
   "metadata": {},
   "outputs": [
    {
     "data": {
      "image/png": "[encoded data removed]"
     },
     "metadata": {},
     "output_type": "display_data"
    }
   ],
   "source": [
    " ggplot(cust_data, aes(x = factor(mobile_bank), y = CD_existing,fill = factor(mobile_bank))) +\n",
    "  geom_bar(stat=\"summary\", fun=mean) +\n",
    "  labs(title = \"Total CD_new by Treatment Group\",\n",
    "       x = \"Have Mobile Bank (1 = Offer, 0 = No Offer)\",\n",
    "       y = \"Total CD_existing\") +\n",
    "  theme_minimal()"
   ]
  },
  {
   "cell_type": "code",
   "execution_count": 35,
   "id": "c4467f81",
   "metadata": {},
   "outputs": [
    {
     "name": "stdout",
     "output_type": "stream",
     "text": [
      "Mean of exsiting CD 30.924 \n",
      "Mean of existing CD who have mobile bank 34.84364 \n",
      "Mean of existing CD who do not have mobile bank 15.17463"
     ]
    }
   ],
   "source": [
    "#CD accounts\n",
    "cat(\"Mean of exsiting CD\", mean(cust_data$CD_existing)*100,\n",
    "        \"\\nMean of existing CD who have mobile bank\", mean(cust_data$CD_existing[cust_data$mobile_bank==1]*100),\n",
    "        \"\\nMean of existing CD who do not have mobile bank\", mean(cust_data$CD_existing[cust_data$mobile_bank==0]*100)) \n"
   ]
  },
  {
   "cell_type": "code",
   "execution_count": 36,
   "id": "3bb853c8",
   "metadata": {},
   "outputs": [
    {
     "name": "stdout",
     "output_type": "stream",
     "text": [
      "Mean of new CD 0.32312 \n",
      "Mean of new CD who have mobile bank 0.3611258 \n",
      "Mean of new CD who do not have mobile bank 0.1376147"
     ]
    }
   ],
   "source": [
    "#CD_new accounts\n",
    "cat(\"Mean of new CD\",mean(cust_data$CD_new),\n",
    "\"\\nMean of new CD who have mobile bank\", mean(cust_data$CD_new[cust_data$mobile_bank_new==1]),\n",
    "\"\\nMean of new CD who do not have mobile bank\",mean(cust_data$CD_new[cust_data$mobile_bank_new==0]))"
   ]
  },
  {
   "cell_type": "markdown",
   "id": "0136e93e",
   "metadata": {},
   "source": [
    "## Double Machine Learning"
   ]
  },
  {
   "cell_type": "markdown",
   "id": "ab398cf1",
   "metadata": {},
   "source": [
    "To isolate the promotion's effect from other variables and get a more accurate estimate of its true impact, we can use a method called Double Machine Learning (DML). Unlike a simple comparison of means, DML actively uses information about potential confounders. Fortunately, we have identified several important confounders related to CD accounts that we can use to build our DML model."
   ]
  },
  {
   "cell_type": "markdown",
   "id": "4bdfdec0",
   "metadata": {},
   "source": [
    "First, we build a model to predict the outcome (opening a new CD account) using only the confounding variables (e.g., savings, income, mobile banking use, existing CD status). Since the outcome is binary (yes/no), a logistic regression is a good choice,"
   ]
  },
  {
   "cell_type": "code",
   "execution_count": 37,
   "id": "53756a15",
   "metadata": {},
   "outputs": [
    {
     "data": {
      "text/plain": [
       "\n",
       "Call:\n",
       "glm(formula = CD_new ~ mobile_bank_new + income + saving_account + \n",
       "    CD_existing, family = binomial(link = \"logit\"), data = cust_data)\n",
       "\n",
       "Coefficients:\n",
       "                  Estimate Std. Error z value Pr(>|z|)    \n",
       "(Intercept)     -5.407e+00  9.096e-02 -59.437   <2e-16 ***\n",
       "mobile_bank_new  1.638e+00  5.775e-02  28.373   <2e-16 ***\n",
       "income           1.320e-06  5.508e-07   2.396   0.0166 *  \n",
       "saving_account   5.046e-05  1.072e-06  47.065   <2e-16 ***\n",
       "CD_existing      1.005e+00  3.874e-02  25.956   <2e-16 ***\n",
       "---\n",
       "Signif. codes:  0 ‘***’ 0.001 ‘**’ 0.01 ‘*’ 0.05 ‘.’ 0.1 ‘ ’ 1\n",
       "\n",
       "(Dispersion parameter for binomial family taken to be 1)\n",
       "\n",
       "    Null deviance: 31460  on 24999  degrees of freedom\n",
       "Residual deviance: 18758  on 24995  degrees of freedom\n",
       "AIC: 18768\n",
       "\n",
       "Number of Fisher Scoring iterations: 6\n"
      ]
     },
     "execution_count": null,
     "metadata": {},
     "output_type": "execute_result"
    }
   ],
   "source": [
    "#predict outcome from confounders\n",
    "\n",
    "lm_outcome <- glm(CD_new ~ mobile_bank_new + income + saving_account + CD_existing, \n",
    "                     data = cust_data, family = binomial(link = \"logit\"))\n",
    "summary(lm_outcome)"
   ]
  },
  {
   "cell_type": "markdown",
   "id": "3c03a1e2",
   "metadata": {},
   "source": [
    "Next, we build a second model. This time, we predict the treatment assignment (i.e., who received the promotion) using the same set of confounding variables."
   ]
  },
  {
   "cell_type": "code",
   "execution_count": 42,
   "id": "68184c91",
   "metadata": {},
   "outputs": [
    {
     "data": {
      "text/plain": [
       "\n",
       "Call:\n",
       "glm(formula = treated_encoded ~ mobile_bank_new + income + saving_account + \n",
       "    CD_existing, family = binomial(link = \"logit\"), data = cust_data)\n",
       "\n",
       "Coefficients:\n",
       "                  Estimate Std. Error z value Pr(>|z|)    \n",
       "(Intercept)     -4.336e-01  3.990e-02 -10.869   <2e-16 ***\n",
       "mobile_bank_new -1.234e-02  3.494e-02  -0.353    0.724    \n",
       "income           3.463e-07  2.481e-07   1.396    0.163    \n",
       "saving_account   4.135e-07  5.618e-07   0.736    0.462    \n",
       "CD_existing     -5.322e-02  3.476e-02  -1.531    0.126    \n",
       "---\n",
       "Signif. codes:  0 ‘***’ 0.001 ‘**’ 0.01 ‘*’ 0.05 ‘.’ 0.1 ‘ ’ 1\n",
       "\n",
       "(Dispersion parameter for binomial family taken to be 1)\n",
       "\n",
       "    Null deviance: 33682  on 24999  degrees of freedom\n",
       "Residual deviance: 33676  on 24995  degrees of freedom\n",
       "AIC: 33686\n",
       "\n",
       "Number of Fisher Scoring iterations: 4\n"
      ]
     },
     "execution_count": null,
     "metadata": {},
     "output_type": "execute_result"
    }
   ],
   "source": [
    "#predict treatment from confounders\n",
    "lm_treatment <- glm(treated_encoded ~ mobile_bank_new + income + saving_account + CD_existing, \n",
    "                     data = cust_data, family = binomial(link = \"logit\"))\n",
    "summary(lm_treatment)"
   ]
  },
  {
   "cell_type": "markdown",
   "id": "1f568a14",
   "metadata": {},
   "source": [
    "Now, the residual of both the models are recorded. This helps isloate the variable not explained by confounders"
   ]
  },
  {
   "cell_type": "code",
   "execution_count": 43,
   "id": "c587aa43",
   "metadata": {},
   "outputs": [],
   "source": [
    "#calculate residuals\n",
    "residuals_outcome <- resid(lm_outcome, type = \"response\")\n",
    "residuals_treatment <- resid(lm_treatment, type = \"response\")"
   ]
  },
  {
   "cell_type": "markdown",
   "id": "5cb233c4",
   "metadata": {},
   "source": [
    "We run a simple linear regression using these residuals:"
   ]
  },
  {
   "cell_type": "code",
   "execution_count": 44,
   "id": "bc0f1a25",
   "metadata": {},
   "outputs": [
    {
     "data": {
      "text/plain": [
       "\n",
       "Call:\n",
       "lm(formula = residuals_outcome ~ residuals_treatment)\n",
       "\n",
       "Residuals:\n",
       "     Min       1Q   Median       3Q      Max \n",
       "-1.01702 -0.13149 -0.01404  0.19273  0.96355 \n",
       "\n",
       "Coefficients:\n",
       "                      Estimate Std. Error t value Pr(>|t|)    \n",
       "(Intercept)         -2.972e-15  2.202e-03   0.000        1    \n",
       "residuals_treatment  4.414e-02  4.493e-03   9.823   <2e-16 ***\n",
       "---\n",
       "Signif. codes:  0 ‘***’ 0.001 ‘**’ 0.01 ‘*’ 0.05 ‘.’ 0.1 ‘ ’ 1\n",
       "\n",
       "Residual standard error: 0.3482 on 24998 degrees of freedom\n",
       "Multiple R-squared:  0.003845,\tAdjusted R-squared:  0.003805 \n",
       "F-statistic: 96.49 on 1 and 24998 DF,  p-value: < 2.2e-16\n"
      ]
     },
     "execution_count": null,
     "metadata": {},
     "output_type": "execute_result"
    }
   ],
   "source": [
    "#Causal Effect\n",
    "causal_effect <- lm(residuals_outcome ~ residuals_treatment)\n",
    "summary(causal_effect)"
   ]
  },
  {
   "cell_type": "markdown",
   "id": "f697602a",
   "metadata": {},
   "source": [
    "After controlling for customer characteristics like mobile banking habits and savings levels, the model confirms the promotion has a statistically significant causal effect, increasing CD uptake by approximately 4.4%.\n",
    "\n",
    "This shows that treatment on average has 4.4 % impact on the outcome of CD. This is down from 5% we saw initially. The DML helped seperate the impact of savings, incomes and mobile banking that had impact on opening CD."
   ]
  }
 ],
 "metadata": {
  "language_info": {
   "name": "r"
  }
 },
 "nbformat": 4,
 "nbformat_minor": 5
}
